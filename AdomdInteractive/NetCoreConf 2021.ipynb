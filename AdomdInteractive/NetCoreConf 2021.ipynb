{
  "cells": [
    {
      "cell_type": "markdown",
      "metadata": {},
      "source": [
        "# Ejecutando consultas DAX sobre Power BI desde .NET 5"
      ]
    },
    {
      "cell_type": "markdown",
      "metadata": {},
      "source": [
        "## Instalar la biblioteca ADOMD.NET"
      ]
    },
    {
      "cell_type": "code",
      "execution_count": 1,
      "metadata": {
        "dotnet_interactive": {
          "language": "csharp"
        }
      },
      "source": [
        "#r \"nuget: Microsoft.AnalysisServices.AdomdClient.NetCore.retail.amd64, 19.16.3\""
      ],
      "outputs": []
    },
    {
      "cell_type": "markdown",
      "metadata": {},
      "source": [
        "## Crear la cadena de conexión con los parámetros enviados desde Power BI"
      ]
    },
    {
      "cell_type": "code",
      "execution_count": 1,
      "metadata": {
        "dotnet_interactive": {
          "language": "csharp"
        }
      },
      "source": [
        "var pbiServer = Environment.GetEnvironmentVariable(\"PBI_SERVER\");\n",
        "var pbiDatabase = Environment.GetEnvironmentVariable(\"PBI_DB\");\n",
        "\n",
        "display($\"Servidor: {pbiServer}\");\n",
        "display($\"Base de datos: {pbiDatabase}\");\n",
        "\n",
        "var connectionString = $\"Provider=MSOLAP;Data Source={pbiServer};Initial Catalog={pbiDatabase};\";\n",
        ""
      ],
      "outputs": []
    },
    {
      "cell_type": "markdown",
      "metadata": {},
      "source": [
        "## Ejecutar una consulta DAX que devuelve un sólo valor"
      ]
    },
    {
      "cell_type": "code",
      "execution_count": 1,
      "metadata": {
        "dotnet_interactive": {
          "language": "csharp"
        }
      },
      "source": [
        "using Microsoft.AnalysisServices.AdomdClient;\n",
        "\n",
        "var connection = new AdomdConnection(connectionString);\n",
        "connection.Open();\n",
        "\n",
        "var command = connection.CreateCommand();\n",
        "\n",
        "command.CommandText = \"EVALUATE { [Unidades Vendidas] }\";\n",
        "\n",
        "var reader = command.ExecuteReader();\n",
        "\n",
        "long unidadesVendidas;\n",
        "if (reader.Read() && reader[0] != null)\n",
        "    unidadesVendidas = reader.GetInt64(0);\n",
        "    \n",
        "reader.Close();\n",
        "\n",
        "connection.Close();\n",
        "\n",
        "display($\"Total de Unidades Vendidas: {unidadesVendidas}\");\n",
        ""
      ],
      "outputs": []
    },
    {
      "cell_type": "markdown",
      "metadata": {},
      "source": [
        "## Ejecutar una consulta DAX con parámetros"
      ]
    },
    {
      "cell_type": "code",
      "execution_count": 1,
      "metadata": {
        "dotnet_interactive": {
          "language": "csharp"
        }
      },
      "source": [
        "using Microsoft.AnalysisServices.AdomdClient;\n",
        "\n",
        "var connection = new AdomdConnection(connectionString);\n",
        "connection.Open();\n",
        "\n",
        "var command = connection.CreateCommand();\n",
        "\n",
        "command.CommandText = @\"\n",
        "        EVALUATE\n",
        "        {\n",
        "            CALCULATE(\n",
        "                [Unidades Vendidas],\n",
        "                'Calendario'[Año] = @year\n",
        "            )\n",
        "        }\";\n",
        "\n",
        "command.Parameters.Add(new AdomdParameter(\"year\",2020));\n",
        "\n",
        "var reader = command.ExecuteReader();\n",
        "\n",
        "long unidadesVendidas;\n",
        "if (reader.Read() && reader[0] != null)\n",
        "    unidadesVendidas = reader.GetInt64(0);\n",
        "    \n",
        "reader.Close();\n",
        "\n",
        "connection.Close();\n",
        "\n",
        "display($\"Total de Unidades Vendidas: {unidadesVendidas}\");"
      ],
      "outputs": []
    },
    {
      "cell_type": "markdown",
      "metadata": {},
      "source": [
        "## Ejecutar una consulta DAX con ExecuteReader que devuelve una tabla"
      ]
    },
    {
      "cell_type": "code",
      "execution_count": 1,
      "metadata": {
        "dotnet_interactive": {
          "language": "csharp"
        }
      },
      "source": [
        "using Microsoft.AnalysisServices.AdomdClient;\n",
        "\n",
        "var connection = new AdomdConnection(connectionString);\n",
        "connection.Open();\n",
        "\n",
        "var command = connection.CreateCommand();\n",
        "\n",
        "command.CommandText = \"EVALUATE 'Vendedores'\";\n",
        "\n",
        "var reader = command.ExecuteReader();\n",
        "\n",
        "var isFirstRow = true;\n",
        "while (reader.Read())\n",
        "{\n",
        "    if (isFirstRow)\n",
        "    {\n",
        "        List<string> header = new();\n",
        "        for (var i = 0; i < reader.FieldCount; i++)\n",
        "            header.Add(reader.GetName(i));\n",
        "\n",
        "        display(string.Join('\\t',header.ToArray()));\n",
        "\n",
        "        isFirstRow = false;        \n",
        "    }\n",
        "\n",
        "    List<string> row = new();\n",
        "    for (var i = 0; i < reader.FieldCount; i++) \n",
        "        row.Add(reader[i].ToString());\n",
        "\n",
        "    display(string.Join('\\t',row.ToArray()));\n",
        "}\n",
        "\n",
        "reader.Close();\n",
        "\n",
        "connection.Close();"
      ],
      "outputs": []
    },
    {
      "cell_type": "markdown",
      "metadata": {},
      "source": [
        "## Utilizar un DataFrame\n",
        "https://devblogs.microsoft.com/dotnet/an-introduction-to-dataframe/"
      ]
    },
    {
      "cell_type": "code",
      "execution_count": 1,
      "metadata": {
        "dotnet_interactive": {
          "language": "csharp"
        }
      },
      "source": [
        "#r \"nuget:Microsoft.Data.Analysis,0.2.0\""
      ],
      "outputs": []
    },
    {
      "cell_type": "markdown",
      "metadata": {},
      "source": [
        "### Registrar un \"Formatter\" para visualizar mejor el DataFrame"
      ]
    },
    {
      "cell_type": "code",
      "execution_count": 1,
      "metadata": {
        "dotnet_interactive": {
          "language": "csharp"
        }
      },
      "source": [
        "using Microsoft.Data.Analysis;\n",
        "using Microsoft.AspNetCore.Html;\n",
        "\n",
        "Formatter.Register<DataFrame>((df, writer) =>\n",
        "{\n",
        "    var headers = new List<IHtmlContent>();\n",
        "    headers.Add(th(i(\"index\")));\n",
        "    headers.AddRange(df.Columns.Select(c => (IHtmlContent) th(c.Name)));\n",
        "    var rows = new List<List<IHtmlContent>>();\n",
        "    var take = 40;\n",
        "    for (var i = 0; i < Math.Min(take, df.Rows.Count); i++)\n",
        "    {\n",
        "        var cells = new List<IHtmlContent>();\n",
        "        cells.Add(td(i));\n",
        "        foreach (var obj in df.Rows[i])\n",
        "        {\n",
        "            cells.Add(td(obj));\n",
        "        }\n",
        "        rows.Add(cells);\n",
        "    }\n",
        "    \n",
        "    var t = table(\n",
        "        thead(\n",
        "            headers),\n",
        "        tbody(\n",
        "            rows.Select(\n",
        "                r => tr(r))));\n",
        "    \n",
        "    writer.Write(t);\n",
        "}, \"text/html\");"
      ],
      "outputs": []
    },
    {
      "cell_type": "markdown",
      "metadata": {},
      "source": [
        "### Clases auxiliares para adiconar columnas a un DataFrame"
      ]
    },
    {
      "cell_type": "markdown",
      "metadata": {},
      "source": [
        "### Crear un método que ejecuta una expresión DAX y devuelve un DataFrame"
      ]
    },
    {
      "cell_type": "code",
      "execution_count": 1,
      "metadata": {
        "dotnet_interactive": {
          "language": "csharp"
        }
      },
      "source": [
        "using Microsoft.Data.Analysis;\n",
        "using Microsoft.AnalysisServices.AdomdClient;\n",
        "using System.Linq;\n",
        "\n",
        "DataFrame ExecuteDax(string dax) \n",
        "{\n",
        "    var connection = new AdomdConnection(connectionString);\n",
        "    connection.Open();\n",
        "    \n",
        "    var command = connection.CreateCommand();\n",
        "    \n",
        "    command.CommandText = dax;\n",
        "    \n",
        "    var reader = command.ExecuteReader();\n",
        "    \n",
        "    List<StringDataFrameColumn> dfColumnList = new();\n",
        "    \n",
        "    var isFirstRow = true;\n",
        "    while (reader.Read())\n",
        "    {\n",
        "        if (isFirstRow)\n",
        "        {\n",
        "            List<string> header = new();\n",
        "            for (var i = 0; i < reader.FieldCount; i++) {\n",
        "                var dfColumn = new StringDataFrameColumn(reader.GetName(i),0);\n",
        "                dfColumnList.Add(dfColumn);\n",
        "            }\n",
        "            isFirstRow = false;        \n",
        "        }\n",
        "    \n",
        "        List<string> row = new();\n",
        "        for (var i = 0; i < reader.FieldCount; i++) \n",
        "        {\n",
        "            var dfColumn = dfColumnList[i];\n",
        "            dfColumn.Append(reader[i].ToString());\n",
        "        }\n",
        "    }\n",
        "    \n",
        "    reader.Close();\n",
        "    \n",
        "    connection.Close();\n",
        "    \n",
        "    return new DataFrame(dfColumnList.ToArray());\n",
        "}\n",
        "\n",
        "var df = ExecuteDax(\"EVALUATE 'Vendedores'\");\n",
        "display(df);"
      ],
      "outputs": []
    },
    {
      "cell_type": "code",
      "execution_count": 1,
      "metadata": {
        "dotnet_interactive": {
          "language": "csharp"
        }
      },
      "source": [
        "var df = ExecuteDax(\"EVALUATE {[Unidades Vendidas]}\");\n",
        "display(df);"
      ],
      "outputs": []
    },
    {
      "cell_type": "markdown",
      "metadata": {},
      "source": [
        "## Más consultas DAX"
      ]
    },
    {
      "cell_type": "markdown",
      "metadata": {},
      "source": [
        "### Unidades Vendidas por Categoría"
      ]
    },
    {
      "cell_type": "code",
      "execution_count": 1,
      "metadata": {
        "dotnet_interactive": {
          "language": "csharp"
        }
      },
      "source": [
        ""
      ],
      "outputs": []
    },
    {
      "cell_type": "code",
      "execution_count": 1,
      "metadata": {
        "dotnet_interactive": {
          "language": "csharp"
        }
      },
      "source": [
        "df = ExecuteDax(\n",
        "    @\"EVALUATE\n",
        "    SELECTCOLUMNS (\n",
        "        VALUES(Productos[Categoria]),\n",
        "        \"\"Categoria\"\",[Categoria],\n",
        "        \"\"Unidades Vendidas\"\", [Unidades Vendidas]\n",
        "    )\"\n",
        ");\n",
        "\n",
        "display(df);\n",
        ""
      ],
      "outputs": []
    },
    {
      "cell_type": "markdown",
      "metadata": {},
      "source": [
        "### Unidades Vendidas por Categoría en orden descendente"
      ]
    },
    {
      "cell_type": "code",
      "execution_count": 1,
      "metadata": {
        "dotnet_interactive": {
          "language": "csharp"
        }
      },
      "source": [
        "df = ExecuteDax (\n",
        "    @\"EVALUATE\n",
        "    SELECTCOLUMNS (\n",
        "        VALUES(Productos[Categoria]),\n",
        "        \"\"Categoria\"\",[Categoria],\n",
        "        \"\"Unidades Vendidas\"\", [Unidades Vendidas]\n",
        "    )\n",
        "    ORDER BY [Unidades Vendidas] DESC\"\n",
        ");\n",
        "\n",
        "display(df);"
      ],
      "outputs": []
    },
    {
      "cell_type": "markdown",
      "metadata": {},
      "source": [
        "### Unidades Vendidas por Categoría en el último año y en orden descendente"
      ]
    },
    {
      "cell_type": "code",
      "execution_count": 1,
      "metadata": {
        "dotnet_interactive": {
          "language": "csharp"
        }
      },
      "source": [
        "df = ExecuteDax (\n",
        "    @\"\n",
        "    DEFINE\n",
        "        VAR maxYear = MAX ( Calendario[Año] )\n",
        "    EVALUATE\n",
        "    CALCULATETABLE (\n",
        "        SELECTCOLUMNS (\n",
        "            VALUES ( Productos[Categoria] ),\n",
        "            \"\"Categoria\"\", [Categoria],\n",
        "            \"\"Unidades Vendidas\"\", [Unidades Vendidas]\n",
        "        ),\n",
        "        Calendario[Año] = maxYear\n",
        "    )\n",
        "    ORDER BY [Unidades Vendidas] DESC\"\n",
        ");\n",
        "\n",
        "display(df);"
      ],
      "outputs": []
    }
  ],
  "metadata": {
    "kernelspec": {
      "display_name": ".NET (C#)",
      "language": "C#",
      "name": ".net-csharp"
    },
    "language_info": {
      "file_extension": ".cs",
      "mimetype": "text/x-csharp",
      "name": "C#",
      "pygments_lexer": "csharp",
      "version": "8.0"
    }
  },
  "nbformat": 4,
  "nbformat_minor": 4
}